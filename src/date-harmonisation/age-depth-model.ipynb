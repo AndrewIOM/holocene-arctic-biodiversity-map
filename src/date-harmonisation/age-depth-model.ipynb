{
 "cells": [
  {
   "cell_type": "markdown",
   "metadata": {},
   "source": [
    "## Making new age-depth models\n",
    "\n",
    "Each fully-coded data source in the AHBD contains the list of dates and their characteristics that were used to build a timeline. To enable cross-comparison between sources, we must (1) harmonise the calibration of dates (for radiocarbon dating), and (2) compute probabilistic age-depth models that contain a measure of temporal uncertainty.\n",
    "\n",
    "### (1) Recalibrating radiocarbon dates\n",
    "\n",
    "..."
   ]
  },
  {
   "cell_type": "code",
   "execution_count": null,
   "metadata": {
    "dotnet_interactive": {
     "language": "fsharp"
    },
    "polyglot_notebook": {
     "kernelName": "fsharp"
    }
   },
   "outputs": [],
   "source": []
  },
  {
   "cell_type": "markdown",
   "metadata": {},
   "source": [
    "#### Exporting AHDB into LiPD format\n",
    "\n",
    "Exporting the AHDB into LiPD format is required to compute age-depth models (below). Here, we load the database and convert records into LiPD format."
   ]
  },
  {
   "cell_type": "code",
   "execution_count": null,
   "metadata": {
    "dotnet_interactive": {
     "language": "fsharp"
    },
    "polyglot_notebook": {
     "kernelName": "fsharp"
    }
   },
   "outputs": [],
   "source": [
    "#r \"../../dist/BiodiversityCoder.Core.dll\"\n",
    "\n",
    "open BiodiversityCoder.Core\n",
    "open BiodiversityCoder.Core.Storage\n",
    "\n",
    "// let graph : FileBasedGraph<GraphStructure.Node,GraphStructure.Relation> =\n",
    "//     Storage.loadOrInitGraph \"../data/\"\n",
    "//     |> Result.forceOk\n",
    "\n",
    "// What do we need to do for LiPD?\n",
    "// - Only take sources that have associated dates ('complete')\n",
    "// - Get table of individual dates, source info...\n",
    "\n",
    "// What is lipd?\n",
    "\n",
    "// - Data tables of key datasets:\n",
    "// - Zip the file as give extension for lpd for linked palaeo-data.\n",
    "\n",
    "// bag-info.txt\n",
    "// bagit.txt\n",
    "// manifest-md5.txt\n",
    "// tagmanifest-md5.txt\n",
    "\n",
    "#r \"nuget: FSharp.Data\"\n",
    "\n",
    "open FSharp.Data\n",
    "\n",
    "type LiPD = JsonProvider<\"lipd-example/bag/data/metadata.jsonld\">\n",
    "\n",
    "let example = LiPD.Load \"lipd-example/bag/data/metadata.jsonld\"\n",
    "\n",
    "// Construct a json file here:\n",
    "\n",
    "[<Literal>]\n",
    "let pub = \"{ \\\"Journal\\\" : \\\"USGS Open-File Report 2007-1047\\\", \\\"title\\\": \\\"some title\\\", \\\"year\\\": \\\"2000\\\" }\"\n",
    "\n",
    "type Pub = JsonProvider<pub, RootName=\"pub\">\n",
    "\n",
    "Pub.Pub(\"Cool\", \"Cool\", 2020)\n",
    "\n",
    "\n",
    "// Construct a 'BagIt' bag\n",
    "\n",
    "open System.IO\n",
    "\n",
    "Directory.CreateDirectory(\"lipid-file\")\n",
    "Directory.CreateDirectory(\"lipid-file/data\")\n",
    "\n",
    "File.WriteAllLines(\"lipid-file/bagit.txt\", [\n",
    "    \"BagIt-Version: 1.0\"\n",
    "    \"Tag-File-Character-Encoding: UTF-8\"\n",
    "])\n",
    "\n",
    "LiPD.Root()\n",
    "\n",
    "File.WriteAllText(\"lipid-file/data/metadata.jsonld\", \"2\")"
   ]
  },
  {
   "cell_type": "markdown",
   "metadata": {},
   "source": [
    "### (2) Creating new age-depth models\n",
    "\n",
    "To create new age-depth models, we use the `geochronR` R package. Here, we will automate this process within the AHBD using F# and the R type provider (`RProvider`), which enables calling of R packages within F#."
   ]
  },
  {
   "cell_type": "code",
   "execution_count": null,
   "metadata": {
    "dotnet_interactive": {
     "language": "fsharp"
    },
    "polyglot_notebook": {
     "kernelName": "fsharp"
    }
   },
   "outputs": [],
   "source": [
    "#r \"nuget: RProvider, 2.1.0\"\n",
    "\n",
    "open RProvider\n",
    "open RProvider.utils\n",
    "\n",
    "R.install_packages(\"geochronR\")\n"
   ]
  }
 ],
 "metadata": {
  "kernelspec": {
   "display_name": ".NET (F#)",
   "language": "F#",
   "name": ".net-fsharp"
  },
  "polyglot_notebook": {
   "kernelInfo": {
    "defaultKernelName": "fsharp",
    "items": [
     {
      "aliases": [],
      "languageName": "fsharp",
      "name": "fsharp"
     }
    ]
   }
  }
 },
 "nbformat": 4,
 "nbformat_minor": 2
}
